{
 "cells": [
  {
   "cell_type": "code",
   "execution_count": 8,
   "metadata": {},
   "outputs": [],
   "source": [
    "## Load in packages.. to be updated as you continue\n",
    "\n",
    "import pandas as pd\n",
    "import geopandas as gpd\n",
    "import numpy as np\n",
    "from shapely.geometry import Point, Polygon\n",
    "%matplotlib inline\n",
    "import matplotlib.pyplot as plt\n",
    "from geopy.geocoders import GoogleV3\n",
    "from pandas import Series\n",
    "import requests, json\n",
    "from pandas.io.json import json_normalize\n",
    "from datetime import datetime, timedelta\n",
    "import earthpy as et\n",
    "import seaborn as sns\n",
    "import pylab as pl\n",
    "\n",
    "# Install a pip package in the current Jupyter kernel\n",
    "import sys\n",
    "#!{sys.executable} -m pip install ruptures\n",
    "\n",
    "import ruptures as rpt\n",
    "\n",
    "# Handle date time conversions between pandas and matplotlib\n",
    "from pandas.plotting import register_matplotlib_converters\n",
    "register_matplotlib_converters()\n",
    "\n",
    "# Use white grid plot background from seaborn\n",
    "sns.set(font_scale=1.5, style=\"whitegrid\")"
   ]
  },
  {
   "cell_type": "code",
   "execution_count": 9,
   "metadata": {
    "scrolled": true
   },
   "outputs": [
    {
     "ename": "FileNotFoundError",
     "evalue": "[Errno 2] No such file or directory: '02290768_CSV.csv'",
     "output_type": "error",
     "traceback": [
      "\u001b[1;31m---------------------------------------------------------------------------\u001b[0m",
      "\u001b[1;31mFileNotFoundError\u001b[0m                         Traceback (most recent call last)",
      "\u001b[1;32m<ipython-input-9-b216cf007310>\u001b[0m in \u001b[0;36m<module>\u001b[1;34m\u001b[0m\n\u001b[0;32m     24\u001b[0m \u001b[1;31m#Read in CSV\u001b[0m\u001b[1;33m\u001b[0m\u001b[1;33m\u001b[0m\u001b[1;33m\u001b[0m\u001b[0m\n\u001b[0;32m     25\u001b[0m \u001b[0mcsvlocation\u001b[0m \u001b[1;33m=\u001b[0m \u001b[1;34m'02290768_CSV.csv'\u001b[0m\u001b[1;33m\u001b[0m\u001b[1;33m\u001b[0m\u001b[0m\n\u001b[1;32m---> 26\u001b[1;33m \u001b[0mmiamigage\u001b[0m \u001b[1;33m=\u001b[0m \u001b[0mpd\u001b[0m\u001b[1;33m.\u001b[0m\u001b[0mread_csv\u001b[0m\u001b[1;33m(\u001b[0m\u001b[0mcsvlocation\u001b[0m\u001b[1;33m,\u001b[0m \u001b[0mengine\u001b[0m\u001b[1;33m=\u001b[0m\u001b[1;34m'python'\u001b[0m\u001b[1;33m)\u001b[0m\u001b[1;33m\u001b[0m\u001b[1;33m\u001b[0m\u001b[0m\n\u001b[0m\u001b[0;32m     27\u001b[0m \u001b[1;31m#Now using Ruptures package\u001b[0m\u001b[1;33m\u001b[0m\u001b[1;33m\u001b[0m\u001b[1;33m\u001b[0m\u001b[0m\n\u001b[0;32m     28\u001b[0m \u001b[1;31m#Changepoint Detection utilizing Pelt Search Method\u001b[0m\u001b[1;33m\u001b[0m\u001b[1;33m\u001b[0m\u001b[1;33m\u001b[0m\u001b[0m\n",
      "\u001b[1;32mC:\\Apps-SU\\Anaconda3\\envs\\geostats_env2\\lib\\site-packages\\pandas\\io\\parsers.py\u001b[0m in \u001b[0;36mparser_f\u001b[1;34m(filepath_or_buffer, sep, delimiter, header, names, index_col, usecols, squeeze, prefix, mangle_dupe_cols, dtype, engine, converters, true_values, false_values, skipinitialspace, skiprows, skipfooter, nrows, na_values, keep_default_na, na_filter, verbose, skip_blank_lines, parse_dates, infer_datetime_format, keep_date_col, date_parser, dayfirst, cache_dates, iterator, chunksize, compression, thousands, decimal, lineterminator, quotechar, quoting, doublequote, escapechar, comment, encoding, dialect, error_bad_lines, warn_bad_lines, delim_whitespace, low_memory, memory_map, float_precision)\u001b[0m\n\u001b[0;32m    674\u001b[0m         )\n\u001b[0;32m    675\u001b[0m \u001b[1;33m\u001b[0m\u001b[0m\n\u001b[1;32m--> 676\u001b[1;33m         \u001b[1;32mreturn\u001b[0m \u001b[0m_read\u001b[0m\u001b[1;33m(\u001b[0m\u001b[0mfilepath_or_buffer\u001b[0m\u001b[1;33m,\u001b[0m \u001b[0mkwds\u001b[0m\u001b[1;33m)\u001b[0m\u001b[1;33m\u001b[0m\u001b[1;33m\u001b[0m\u001b[0m\n\u001b[0m\u001b[0;32m    677\u001b[0m \u001b[1;33m\u001b[0m\u001b[0m\n\u001b[0;32m    678\u001b[0m     \u001b[0mparser_f\u001b[0m\u001b[1;33m.\u001b[0m\u001b[0m__name__\u001b[0m \u001b[1;33m=\u001b[0m \u001b[0mname\u001b[0m\u001b[1;33m\u001b[0m\u001b[1;33m\u001b[0m\u001b[0m\n",
      "\u001b[1;32mC:\\Apps-SU\\Anaconda3\\envs\\geostats_env2\\lib\\site-packages\\pandas\\io\\parsers.py\u001b[0m in \u001b[0;36m_read\u001b[1;34m(filepath_or_buffer, kwds)\u001b[0m\n\u001b[0;32m    446\u001b[0m \u001b[1;33m\u001b[0m\u001b[0m\n\u001b[0;32m    447\u001b[0m     \u001b[1;31m# Create the parser.\u001b[0m\u001b[1;33m\u001b[0m\u001b[1;33m\u001b[0m\u001b[1;33m\u001b[0m\u001b[0m\n\u001b[1;32m--> 448\u001b[1;33m     \u001b[0mparser\u001b[0m \u001b[1;33m=\u001b[0m \u001b[0mTextFileReader\u001b[0m\u001b[1;33m(\u001b[0m\u001b[0mfp_or_buf\u001b[0m\u001b[1;33m,\u001b[0m \u001b[1;33m**\u001b[0m\u001b[0mkwds\u001b[0m\u001b[1;33m)\u001b[0m\u001b[1;33m\u001b[0m\u001b[1;33m\u001b[0m\u001b[0m\n\u001b[0m\u001b[0;32m    449\u001b[0m \u001b[1;33m\u001b[0m\u001b[0m\n\u001b[0;32m    450\u001b[0m     \u001b[1;32mif\u001b[0m \u001b[0mchunksize\u001b[0m \u001b[1;32mor\u001b[0m \u001b[0miterator\u001b[0m\u001b[1;33m:\u001b[0m\u001b[1;33m\u001b[0m\u001b[1;33m\u001b[0m\u001b[0m\n",
      "\u001b[1;32mC:\\Apps-SU\\Anaconda3\\envs\\geostats_env2\\lib\\site-packages\\pandas\\io\\parsers.py\u001b[0m in \u001b[0;36m__init__\u001b[1;34m(self, f, engine, **kwds)\u001b[0m\n\u001b[0;32m    878\u001b[0m             \u001b[0mself\u001b[0m\u001b[1;33m.\u001b[0m\u001b[0moptions\u001b[0m\u001b[1;33m[\u001b[0m\u001b[1;34m\"has_index_names\"\u001b[0m\u001b[1;33m]\u001b[0m \u001b[1;33m=\u001b[0m \u001b[0mkwds\u001b[0m\u001b[1;33m[\u001b[0m\u001b[1;34m\"has_index_names\"\u001b[0m\u001b[1;33m]\u001b[0m\u001b[1;33m\u001b[0m\u001b[1;33m\u001b[0m\u001b[0m\n\u001b[0;32m    879\u001b[0m \u001b[1;33m\u001b[0m\u001b[0m\n\u001b[1;32m--> 880\u001b[1;33m         \u001b[0mself\u001b[0m\u001b[1;33m.\u001b[0m\u001b[0m_make_engine\u001b[0m\u001b[1;33m(\u001b[0m\u001b[0mself\u001b[0m\u001b[1;33m.\u001b[0m\u001b[0mengine\u001b[0m\u001b[1;33m)\u001b[0m\u001b[1;33m\u001b[0m\u001b[1;33m\u001b[0m\u001b[0m\n\u001b[0m\u001b[0;32m    881\u001b[0m \u001b[1;33m\u001b[0m\u001b[0m\n\u001b[0;32m    882\u001b[0m     \u001b[1;32mdef\u001b[0m \u001b[0mclose\u001b[0m\u001b[1;33m(\u001b[0m\u001b[0mself\u001b[0m\u001b[1;33m)\u001b[0m\u001b[1;33m:\u001b[0m\u001b[1;33m\u001b[0m\u001b[1;33m\u001b[0m\u001b[0m\n",
      "\u001b[1;32mC:\\Apps-SU\\Anaconda3\\envs\\geostats_env2\\lib\\site-packages\\pandas\\io\\parsers.py\u001b[0m in \u001b[0;36m_make_engine\u001b[1;34m(self, engine)\u001b[0m\n\u001b[0;32m   1124\u001b[0m                     \u001b[1;34m'\"python-fwf\")'\u001b[0m\u001b[1;33m\u001b[0m\u001b[1;33m\u001b[0m\u001b[0m\n\u001b[0;32m   1125\u001b[0m                 )\n\u001b[1;32m-> 1126\u001b[1;33m             \u001b[0mself\u001b[0m\u001b[1;33m.\u001b[0m\u001b[0m_engine\u001b[0m \u001b[1;33m=\u001b[0m \u001b[0mklass\u001b[0m\u001b[1;33m(\u001b[0m\u001b[0mself\u001b[0m\u001b[1;33m.\u001b[0m\u001b[0mf\u001b[0m\u001b[1;33m,\u001b[0m \u001b[1;33m**\u001b[0m\u001b[0mself\u001b[0m\u001b[1;33m.\u001b[0m\u001b[0moptions\u001b[0m\u001b[1;33m)\u001b[0m\u001b[1;33m\u001b[0m\u001b[1;33m\u001b[0m\u001b[0m\n\u001b[0m\u001b[0;32m   1127\u001b[0m \u001b[1;33m\u001b[0m\u001b[0m\n\u001b[0;32m   1128\u001b[0m     \u001b[1;32mdef\u001b[0m \u001b[0m_failover_to_python\u001b[0m\u001b[1;33m(\u001b[0m\u001b[0mself\u001b[0m\u001b[1;33m)\u001b[0m\u001b[1;33m:\u001b[0m\u001b[1;33m\u001b[0m\u001b[1;33m\u001b[0m\u001b[0m\n",
      "\u001b[1;32mC:\\Apps-SU\\Anaconda3\\envs\\geostats_env2\\lib\\site-packages\\pandas\\io\\parsers.py\u001b[0m in \u001b[0;36m__init__\u001b[1;34m(self, f, **kwds)\u001b[0m\n\u001b[0;32m   2267\u001b[0m             \u001b[0mencoding\u001b[0m\u001b[1;33m=\u001b[0m\u001b[0mself\u001b[0m\u001b[1;33m.\u001b[0m\u001b[0mencoding\u001b[0m\u001b[1;33m,\u001b[0m\u001b[1;33m\u001b[0m\u001b[1;33m\u001b[0m\u001b[0m\n\u001b[0;32m   2268\u001b[0m             \u001b[0mcompression\u001b[0m\u001b[1;33m=\u001b[0m\u001b[0mself\u001b[0m\u001b[1;33m.\u001b[0m\u001b[0mcompression\u001b[0m\u001b[1;33m,\u001b[0m\u001b[1;33m\u001b[0m\u001b[1;33m\u001b[0m\u001b[0m\n\u001b[1;32m-> 2269\u001b[1;33m             \u001b[0mmemory_map\u001b[0m\u001b[1;33m=\u001b[0m\u001b[0mself\u001b[0m\u001b[1;33m.\u001b[0m\u001b[0mmemory_map\u001b[0m\u001b[1;33m,\u001b[0m\u001b[1;33m\u001b[0m\u001b[1;33m\u001b[0m\u001b[0m\n\u001b[0m\u001b[0;32m   2270\u001b[0m         )\n\u001b[0;32m   2271\u001b[0m         \u001b[0mself\u001b[0m\u001b[1;33m.\u001b[0m\u001b[0mhandles\u001b[0m\u001b[1;33m.\u001b[0m\u001b[0mextend\u001b[0m\u001b[1;33m(\u001b[0m\u001b[0mhandles\u001b[0m\u001b[1;33m)\u001b[0m\u001b[1;33m\u001b[0m\u001b[1;33m\u001b[0m\u001b[0m\n",
      "\u001b[1;32mC:\\Apps-SU\\Anaconda3\\envs\\geostats_env2\\lib\\site-packages\\pandas\\io\\common.py\u001b[0m in \u001b[0;36mget_handle\u001b[1;34m(path_or_buf, mode, encoding, compression, memory_map, is_text)\u001b[0m\n\u001b[0;32m    429\u001b[0m         \u001b[1;32melif\u001b[0m \u001b[0mis_text\u001b[0m\u001b[1;33m:\u001b[0m\u001b[1;33m\u001b[0m\u001b[1;33m\u001b[0m\u001b[0m\n\u001b[0;32m    430\u001b[0m             \u001b[1;31m# No explicit encoding\u001b[0m\u001b[1;33m\u001b[0m\u001b[1;33m\u001b[0m\u001b[1;33m\u001b[0m\u001b[0m\n\u001b[1;32m--> 431\u001b[1;33m             \u001b[0mf\u001b[0m \u001b[1;33m=\u001b[0m \u001b[0mopen\u001b[0m\u001b[1;33m(\u001b[0m\u001b[0mpath_or_buf\u001b[0m\u001b[1;33m,\u001b[0m \u001b[0mmode\u001b[0m\u001b[1;33m,\u001b[0m \u001b[0merrors\u001b[0m\u001b[1;33m=\u001b[0m\u001b[1;34m\"replace\"\u001b[0m\u001b[1;33m,\u001b[0m \u001b[0mnewline\u001b[0m\u001b[1;33m=\u001b[0m\u001b[1;34m\"\"\u001b[0m\u001b[1;33m)\u001b[0m\u001b[1;33m\u001b[0m\u001b[1;33m\u001b[0m\u001b[0m\n\u001b[0m\u001b[0;32m    432\u001b[0m         \u001b[1;32melse\u001b[0m\u001b[1;33m:\u001b[0m\u001b[1;33m\u001b[0m\u001b[1;33m\u001b[0m\u001b[0m\n\u001b[0;32m    433\u001b[0m             \u001b[1;31m# Binary mode\u001b[0m\u001b[1;33m\u001b[0m\u001b[1;33m\u001b[0m\u001b[1;33m\u001b[0m\u001b[0m\n",
      "\u001b[1;31mFileNotFoundError\u001b[0m: [Errno 2] No such file or directory: '02290768_CSV.csv'"
     ]
    }
   ],
   "source": [
    "# Import stream stage (in meters) information.. sh=stage height\n",
    "##sh02290768 <- importDVs(\"02290768\", code = \"00072\", stat = \"00003\", sdate = \"2000-01-01\", edate = \"2020-06-01\")\n",
    "# Examine the attributes of the data frame to show that the parameter\n",
    "# code and statistics code are saved with the dataframe\n",
    "##attributes(sh02290768)[c(\"code\",\"stat\")]\n",
    "\n",
    "# Calculate the longest term anomolies possible using compAnom (which =4))\n",
    "##q02290768 <- importDVs(\"02290768\", sdate = \"2000-01-01\", edate = \"2020-06-01\")\n",
    "##anoms02290768 <- compAnom(q02290768, which = 4)\n",
    "\n",
    "# Plot the anomolies from previous step\n",
    "##q02290768 <- importDVs(\"02290768\", sdate= \"2000-01-01\", edate= \"2020-06-01\")\n",
    "##anoms02286400 <- compAnom(q02290768, which=4)\n",
    "##plotAnoms(anoms02290768)\n",
    "\n",
    "#Site Info (what is the difference between these two?)\n",
    "##staInfo <- siteInfo(\"02290768\")\n",
    "##staInfo\n",
    "\n",
    "##staInfo <- siteInfo(c(\"02290768\")) # c means concantonate which makes a list \n",
    "\n",
    "###########################################################################################\n",
    "\n",
    "#Read in CSV\n",
    "csvlocation = '02290768_CSV.csv'\n",
    "miamigage = pd.read_csv(csvlocation, engine='python') \n",
    "#Now using Ruptures package\n",
    "#Changepoint Detection utilizing Pelt Search Method\n",
    "\n",
    "\n"
   ]
  },
  {
   "cell_type": "code",
   "execution_count": 19,
   "metadata": {},
   "outputs": [
    {
     "ename": "FileNotFoundError",
     "evalue": "[Errno 2] File E:\\NLD_DSWE\\data\\miami_stream_gage\\02290768_CSV does not exist: 'E:\\\\NLD_DSWE\\\\data\\\\miami_stream_gage\\\\02290768_CSV'",
     "output_type": "error",
     "traceback": [
      "\u001b[1;31m---------------------------------------------------------------------------\u001b[0m",
      "\u001b[1;31mFileNotFoundError\u001b[0m                         Traceback (most recent call last)",
      "\u001b[1;32m<ipython-input-19-4b593e9c1377>\u001b[0m in \u001b[0;36m<module>\u001b[1;34m\u001b[0m\n\u001b[0;32m     26\u001b[0m \u001b[0mcsvlocation\u001b[0m \u001b[1;33m=\u001b[0m \u001b[1;34mr'E:\\NLD_DSWE\\data\\miami_stream_gage\\02290768_CSV'\u001b[0m\u001b[1;33m\u001b[0m\u001b[1;33m\u001b[0m\u001b[0m\n\u001b[0;32m     27\u001b[0m \u001b[1;31m#Read in csv as miamigage\u001b[0m\u001b[1;33m\u001b[0m\u001b[1;33m\u001b[0m\u001b[1;33m\u001b[0m\u001b[0m\n\u001b[1;32m---> 28\u001b[1;33m \u001b[0mmiamigage\u001b[0m \u001b[1;33m=\u001b[0m \u001b[0mpd\u001b[0m\u001b[1;33m.\u001b[0m\u001b[0mread_csv\u001b[0m\u001b[1;33m(\u001b[0m\u001b[0mcsvlocation\u001b[0m\u001b[1;33m)\u001b[0m\u001b[1;33m\u001b[0m\u001b[1;33m\u001b[0m\u001b[0m\n\u001b[0m\u001b[0;32m     29\u001b[0m \u001b[1;33m\u001b[0m\u001b[0m\n\u001b[0;32m     30\u001b[0m \u001b[1;31m#pd.to_datetime(df['Date'] + ' ' + df['Stream Stage (feet)'])\u001b[0m\u001b[1;33m\u001b[0m\u001b[1;33m\u001b[0m\u001b[1;33m\u001b[0m\u001b[0m\n",
      "\u001b[1;32mC:\\Apps-SU\\Anaconda3\\envs\\geostats_env2\\lib\\site-packages\\pandas\\io\\parsers.py\u001b[0m in \u001b[0;36mparser_f\u001b[1;34m(filepath_or_buffer, sep, delimiter, header, names, index_col, usecols, squeeze, prefix, mangle_dupe_cols, dtype, engine, converters, true_values, false_values, skipinitialspace, skiprows, skipfooter, nrows, na_values, keep_default_na, na_filter, verbose, skip_blank_lines, parse_dates, infer_datetime_format, keep_date_col, date_parser, dayfirst, cache_dates, iterator, chunksize, compression, thousands, decimal, lineterminator, quotechar, quoting, doublequote, escapechar, comment, encoding, dialect, error_bad_lines, warn_bad_lines, delim_whitespace, low_memory, memory_map, float_precision)\u001b[0m\n\u001b[0;32m    674\u001b[0m         )\n\u001b[0;32m    675\u001b[0m \u001b[1;33m\u001b[0m\u001b[0m\n\u001b[1;32m--> 676\u001b[1;33m         \u001b[1;32mreturn\u001b[0m \u001b[0m_read\u001b[0m\u001b[1;33m(\u001b[0m\u001b[0mfilepath_or_buffer\u001b[0m\u001b[1;33m,\u001b[0m \u001b[0mkwds\u001b[0m\u001b[1;33m)\u001b[0m\u001b[1;33m\u001b[0m\u001b[1;33m\u001b[0m\u001b[0m\n\u001b[0m\u001b[0;32m    677\u001b[0m \u001b[1;33m\u001b[0m\u001b[0m\n\u001b[0;32m    678\u001b[0m     \u001b[0mparser_f\u001b[0m\u001b[1;33m.\u001b[0m\u001b[0m__name__\u001b[0m \u001b[1;33m=\u001b[0m \u001b[0mname\u001b[0m\u001b[1;33m\u001b[0m\u001b[1;33m\u001b[0m\u001b[0m\n",
      "\u001b[1;32mC:\\Apps-SU\\Anaconda3\\envs\\geostats_env2\\lib\\site-packages\\pandas\\io\\parsers.py\u001b[0m in \u001b[0;36m_read\u001b[1;34m(filepath_or_buffer, kwds)\u001b[0m\n\u001b[0;32m    446\u001b[0m \u001b[1;33m\u001b[0m\u001b[0m\n\u001b[0;32m    447\u001b[0m     \u001b[1;31m# Create the parser.\u001b[0m\u001b[1;33m\u001b[0m\u001b[1;33m\u001b[0m\u001b[1;33m\u001b[0m\u001b[0m\n\u001b[1;32m--> 448\u001b[1;33m     \u001b[0mparser\u001b[0m \u001b[1;33m=\u001b[0m \u001b[0mTextFileReader\u001b[0m\u001b[1;33m(\u001b[0m\u001b[0mfp_or_buf\u001b[0m\u001b[1;33m,\u001b[0m \u001b[1;33m**\u001b[0m\u001b[0mkwds\u001b[0m\u001b[1;33m)\u001b[0m\u001b[1;33m\u001b[0m\u001b[1;33m\u001b[0m\u001b[0m\n\u001b[0m\u001b[0;32m    449\u001b[0m \u001b[1;33m\u001b[0m\u001b[0m\n\u001b[0;32m    450\u001b[0m     \u001b[1;32mif\u001b[0m \u001b[0mchunksize\u001b[0m \u001b[1;32mor\u001b[0m \u001b[0miterator\u001b[0m\u001b[1;33m:\u001b[0m\u001b[1;33m\u001b[0m\u001b[1;33m\u001b[0m\u001b[0m\n",
      "\u001b[1;32mC:\\Apps-SU\\Anaconda3\\envs\\geostats_env2\\lib\\site-packages\\pandas\\io\\parsers.py\u001b[0m in \u001b[0;36m__init__\u001b[1;34m(self, f, engine, **kwds)\u001b[0m\n\u001b[0;32m    878\u001b[0m             \u001b[0mself\u001b[0m\u001b[1;33m.\u001b[0m\u001b[0moptions\u001b[0m\u001b[1;33m[\u001b[0m\u001b[1;34m\"has_index_names\"\u001b[0m\u001b[1;33m]\u001b[0m \u001b[1;33m=\u001b[0m \u001b[0mkwds\u001b[0m\u001b[1;33m[\u001b[0m\u001b[1;34m\"has_index_names\"\u001b[0m\u001b[1;33m]\u001b[0m\u001b[1;33m\u001b[0m\u001b[1;33m\u001b[0m\u001b[0m\n\u001b[0;32m    879\u001b[0m \u001b[1;33m\u001b[0m\u001b[0m\n\u001b[1;32m--> 880\u001b[1;33m         \u001b[0mself\u001b[0m\u001b[1;33m.\u001b[0m\u001b[0m_make_engine\u001b[0m\u001b[1;33m(\u001b[0m\u001b[0mself\u001b[0m\u001b[1;33m.\u001b[0m\u001b[0mengine\u001b[0m\u001b[1;33m)\u001b[0m\u001b[1;33m\u001b[0m\u001b[1;33m\u001b[0m\u001b[0m\n\u001b[0m\u001b[0;32m    881\u001b[0m \u001b[1;33m\u001b[0m\u001b[0m\n\u001b[0;32m    882\u001b[0m     \u001b[1;32mdef\u001b[0m \u001b[0mclose\u001b[0m\u001b[1;33m(\u001b[0m\u001b[0mself\u001b[0m\u001b[1;33m)\u001b[0m\u001b[1;33m:\u001b[0m\u001b[1;33m\u001b[0m\u001b[1;33m\u001b[0m\u001b[0m\n",
      "\u001b[1;32mC:\\Apps-SU\\Anaconda3\\envs\\geostats_env2\\lib\\site-packages\\pandas\\io\\parsers.py\u001b[0m in \u001b[0;36m_make_engine\u001b[1;34m(self, engine)\u001b[0m\n\u001b[0;32m   1112\u001b[0m     \u001b[1;32mdef\u001b[0m \u001b[0m_make_engine\u001b[0m\u001b[1;33m(\u001b[0m\u001b[0mself\u001b[0m\u001b[1;33m,\u001b[0m \u001b[0mengine\u001b[0m\u001b[1;33m=\u001b[0m\u001b[1;34m\"c\"\u001b[0m\u001b[1;33m)\u001b[0m\u001b[1;33m:\u001b[0m\u001b[1;33m\u001b[0m\u001b[1;33m\u001b[0m\u001b[0m\n\u001b[0;32m   1113\u001b[0m         \u001b[1;32mif\u001b[0m \u001b[0mengine\u001b[0m \u001b[1;33m==\u001b[0m \u001b[1;34m\"c\"\u001b[0m\u001b[1;33m:\u001b[0m\u001b[1;33m\u001b[0m\u001b[1;33m\u001b[0m\u001b[0m\n\u001b[1;32m-> 1114\u001b[1;33m             \u001b[0mself\u001b[0m\u001b[1;33m.\u001b[0m\u001b[0m_engine\u001b[0m \u001b[1;33m=\u001b[0m \u001b[0mCParserWrapper\u001b[0m\u001b[1;33m(\u001b[0m\u001b[0mself\u001b[0m\u001b[1;33m.\u001b[0m\u001b[0mf\u001b[0m\u001b[1;33m,\u001b[0m \u001b[1;33m**\u001b[0m\u001b[0mself\u001b[0m\u001b[1;33m.\u001b[0m\u001b[0moptions\u001b[0m\u001b[1;33m)\u001b[0m\u001b[1;33m\u001b[0m\u001b[1;33m\u001b[0m\u001b[0m\n\u001b[0m\u001b[0;32m   1115\u001b[0m         \u001b[1;32melse\u001b[0m\u001b[1;33m:\u001b[0m\u001b[1;33m\u001b[0m\u001b[1;33m\u001b[0m\u001b[0m\n\u001b[0;32m   1116\u001b[0m             \u001b[1;32mif\u001b[0m \u001b[0mengine\u001b[0m \u001b[1;33m==\u001b[0m \u001b[1;34m\"python\"\u001b[0m\u001b[1;33m:\u001b[0m\u001b[1;33m\u001b[0m\u001b[1;33m\u001b[0m\u001b[0m\n",
      "\u001b[1;32mC:\\Apps-SU\\Anaconda3\\envs\\geostats_env2\\lib\\site-packages\\pandas\\io\\parsers.py\u001b[0m in \u001b[0;36m__init__\u001b[1;34m(self, src, **kwds)\u001b[0m\n\u001b[0;32m   1889\u001b[0m         \u001b[0mkwds\u001b[0m\u001b[1;33m[\u001b[0m\u001b[1;34m\"usecols\"\u001b[0m\u001b[1;33m]\u001b[0m \u001b[1;33m=\u001b[0m \u001b[0mself\u001b[0m\u001b[1;33m.\u001b[0m\u001b[0musecols\u001b[0m\u001b[1;33m\u001b[0m\u001b[1;33m\u001b[0m\u001b[0m\n\u001b[0;32m   1890\u001b[0m \u001b[1;33m\u001b[0m\u001b[0m\n\u001b[1;32m-> 1891\u001b[1;33m         \u001b[0mself\u001b[0m\u001b[1;33m.\u001b[0m\u001b[0m_reader\u001b[0m \u001b[1;33m=\u001b[0m \u001b[0mparsers\u001b[0m\u001b[1;33m.\u001b[0m\u001b[0mTextReader\u001b[0m\u001b[1;33m(\u001b[0m\u001b[0msrc\u001b[0m\u001b[1;33m,\u001b[0m \u001b[1;33m**\u001b[0m\u001b[0mkwds\u001b[0m\u001b[1;33m)\u001b[0m\u001b[1;33m\u001b[0m\u001b[1;33m\u001b[0m\u001b[0m\n\u001b[0m\u001b[0;32m   1892\u001b[0m         \u001b[0mself\u001b[0m\u001b[1;33m.\u001b[0m\u001b[0munnamed_cols\u001b[0m \u001b[1;33m=\u001b[0m \u001b[0mself\u001b[0m\u001b[1;33m.\u001b[0m\u001b[0m_reader\u001b[0m\u001b[1;33m.\u001b[0m\u001b[0munnamed_cols\u001b[0m\u001b[1;33m\u001b[0m\u001b[1;33m\u001b[0m\u001b[0m\n\u001b[0;32m   1893\u001b[0m \u001b[1;33m\u001b[0m\u001b[0m\n",
      "\u001b[1;32mpandas\\_libs\\parsers.pyx\u001b[0m in \u001b[0;36mpandas._libs.parsers.TextReader.__cinit__\u001b[1;34m()\u001b[0m\n",
      "\u001b[1;32mpandas\\_libs\\parsers.pyx\u001b[0m in \u001b[0;36mpandas._libs.parsers.TextReader._setup_parser_source\u001b[1;34m()\u001b[0m\n",
      "\u001b[1;31mFileNotFoundError\u001b[0m: [Errno 2] File E:\\NLD_DSWE\\data\\miami_stream_gage\\02290768_CSV does not exist: 'E:\\\\NLD_DSWE\\\\data\\\\miami_stream_gage\\\\02290768_CSV'"
     ]
    }
   ],
   "source": [
    "#import os\n",
    "#os.listdir()\n",
    "###miamigage.stage_ft\n",
    "#Establish start and end time\n",
    "###start_time= pd.to_datetime('2000-01-01')\n",
    "###end_time= pd.to_datetime('2020-06-01')\n",
    "#Format datetime column\n",
    "###miamigage['datetime']=miamigage['datetime'].astype(str)\n",
    "#Convert date column into a date object\n",
    "###miamigage['datetime']=pd.to_datetime(miamigage['datetime'])\n",
    "#Select specific range\n",
    "###miamigage=miamigage[(miamigage['datetime']<=end_time)]\n",
    "###miamigage=miamigage[(start_time <=miamigage['datetime'])]\n",
    "###plt.xlabel('Date')\n",
    "###plt.ylabel('Stream Stage (feet)')\n",
    "###plt.title('Change Point Detection: Pelt Search Method')\n",
    "#Convert time series values to a numpy 1D array\n",
    "###points=np.array(miamigage['stage_ft']\n",
    "###miamigage.stage_ft.plot()\n",
    "#'02290768_CSV.csv'\n",
    "\n",
    "#headers = ['placeholder','Date','Stream Stage (feet)']\n",
    "\n",
    "#Call in CSV\n",
    "##csvlocation = '02290768_CSV.csv'\n",
    "csvlocation = r'E:\\NLD_DSWE\\data\\miami_stream_gage\\02290768_CSV'\n",
    "#Read in csv as miamigage\n",
    "miamigage = pd.read_csv(csvlocation)\n",
    "\n",
    "#pd.to_datetime(df['Date'] + ' ' + df['Stream Stage (feet)'])\n",
    "#df.apply(lambda r : pd.datetime.combine(r['Date'],r['Time']),)\n",
    "\n",
    "#plot miamigage\n",
    "miamigage.plot(x='Date', y='Discharge_CFS')\n",
    "df = pd.DataFrame(index=pd.date_range(\"2000-01-01\", \"2020-06-01\"))\n",
    "#algo = rpt.Pelt(model=model).fit(points)\n",
    "#rpt.display(points, result, figsize=(10, 6))\n",
    "\n",
    "\n",
    "#plt.xlim((pd.to_datetime(\"2000-01-01\"),pd.to_datetime(\"2020-06-01\")))\n",
    "#df = pd.concat([miamigage.drop(['Date', 'Stream Stage (feet)'], axis=1),miamigage],axis=1)\n",
    "#df = pd.concat([df.drop(['column_1', 'column_1'],axis=1), dummies],axis=1)\n",
    "###plt.axvline(df.(2008, 5, 30), color='r')\n",
    "##ax = miamigage.plot()\n",
    "##ax.axvline(pd.to_datetime('2008-05-30'), color='r', linestyle='--', lw=2)\n",
    "#plt.vlines(x=['2008-05-30'], ymin=0, ymax=1050, colors='red', ls='--', lw=2, label='Construction')\n",
    "\n",
    "\n",
    "#Comment in this line to see the vertical construction line... \n",
    "#plt.vlines(x=datetime(2008, 5, 30), ymin=0, ymax=1050, colors='red', ls='--', lw=2, label='Construction')\n",
    "#abline(v = c(30, 70), col=\"red\") #coordinate will be the dates\n",
    "#plt.axvline(pd.Timestamp('2008-05-30'),color='r')\n",
    "#Establish labels on x and y axis using plt.?label\n",
    "plt.xlabel('Date')\n",
    "plt.ylabel('Discharge (CFS)') #check on usgs for the discharge units of this specific gage.. theyre all different. \n",
    "\n",
    "# Rotate the x labels so they are readable\n",
    "pl.xticks(rotation = 20)\n",
    "# Name the plot\n",
    "plt.title('Frequency of Flow Events: USGS SG 02290768', color='black')\n",
    "#Can tighten up the plot, typically leads to overlapping\n",
    "#plt.tight_layout()\n",
    "plt.show()\n",
    "\n"
   ]
  },
  {
   "cell_type": "code",
   "execution_count": 10,
   "metadata": {},
   "outputs": [],
   "source": [
    "# Change Point Algorithm for Downloaded Stream Stage Data\n",
    "##https://lindeloev.github.io/mcp/articles/packages.html"
   ]
  },
  {
   "cell_type": "code",
   "execution_count": 11,
   "metadata": {},
   "outputs": [],
   "source": [
    "#library(mcp)\n",
    "#set.seed(42)  \n",
    "#df = data.frame(\n",
    "#    x = miamigage.datetime #1:100, #change these axes, going to be dates instead of 1 to 100\n",
    "#  y = miamigage.stage_ft #change these axes, compare stream stage  time \n",
    "#)\n",
    "##Plot above \n",
    "#plot(df)\n",
    "#abline(v = c(30, 70), col=\"red\") #coordinate will be the dates\n",
    "#https://techrando.com/2019/08/14/a-brief-introduction-to-change-point-detection-using-python/ ",
    "\n",
    "\n"
   ]
  },
  {
   "cell_type": "code",
   "execution_count": 12,
   "metadata": {
    "scrolled": false
   },
   "outputs": [
    {
     "ename": "NameError",
     "evalue": "name 'miamigage' is not defined",
     "output_type": "error",
     "traceback": [
      "\u001b[1;31m---------------------------------------------------------------------------\u001b[0m",
      "\u001b[1;31mNameError\u001b[0m                                 Traceback (most recent call last)",
      "\u001b[1;32m<ipython-input-12-b46c57cd1472>\u001b[0m in \u001b[0;36m<module>\u001b[1;34m\u001b[0m\n\u001b[0;32m      1\u001b[0m \u001b[0mmodel\u001b[0m\u001b[1;33m=\u001b[0m\u001b[1;34m\"rbf\"\u001b[0m\u001b[1;33m\u001b[0m\u001b[1;33m\u001b[0m\u001b[0m\n\u001b[1;32m----> 2\u001b[1;33m \u001b[0mpoints\u001b[0m\u001b[1;33m=\u001b[0m\u001b[0mnp\u001b[0m\u001b[1;33m.\u001b[0m\u001b[0marray\u001b[0m\u001b[1;33m(\u001b[0m\u001b[0mmiamigage\u001b[0m\u001b[1;33m[\u001b[0m\u001b[1;34m'Discharge_CFS'\u001b[0m\u001b[1;33m]\u001b[0m\u001b[1;33m)\u001b[0m\u001b[1;33m\u001b[0m\u001b[1;33m\u001b[0m\u001b[0m\n\u001b[0m\u001b[0;32m      3\u001b[0m \u001b[1;33m\u001b[0m\u001b[0m\n\u001b[0;32m      4\u001b[0m \u001b[0mplt\u001b[0m\u001b[1;33m.\u001b[0m\u001b[0mxlabel\u001b[0m\u001b[1;33m(\u001b[0m\u001b[1;34m'Date'\u001b[0m\u001b[1;33m)\u001b[0m\u001b[1;33m\u001b[0m\u001b[1;33m\u001b[0m\u001b[0m\n\u001b[0;32m      5\u001b[0m \u001b[0mplt\u001b[0m\u001b[1;33m.\u001b[0m\u001b[0mylabel\u001b[0m\u001b[1;33m(\u001b[0m\u001b[1;34m'Discharge_CFS'\u001b[0m\u001b[1;33m)\u001b[0m\u001b[1;33m\u001b[0m\u001b[1;33m\u001b[0m\u001b[0m\n",
      "\u001b[1;31mNameError\u001b[0m: name 'miamigage' is not defined"
     ]
    }
   ],
   "source": [
    "\n",
    "model=\"rbf\"\n",
    "points=np.array(miamigage['Discharge_CFS'])\n",
    "\n",
    "plt.xlabel('Date')\n",
    "plt.ylabel('Discharge_CFS')\n",
    "algo = rpt.Pelt(model=model).fit(points)\n",
    "result = algo.predict(pen=10)\n",
    "rpt.display(points, result, figsize=(10, 6))\n",
    "plt.title('Change Point Detection: Pelt Search Method')\n",
    "#plt.show()\n",
    "\n",
    "#Changepoint detection with the Binary Segmentation search method\n",
    "model = \"l2\"  \n",
    "algo = rpt.Binseg(model=model).fit(points)\n",
    "my_bkps = algo.predict(n_bkps=10)\n",
    "# show results\n",
    "rpt.show.display(points, my_bkps, figsize=(10, 6))\n",
    "plt.title('Change Point Detection: Binary Segmentation Search Method')\n",
    "plt.show()\n",
    "    \n",
    "#Changepoint detection with window-based search method\n",
    "model = \"l2\"  \n",
    "algo = rpt.Window(width=40, model=model).fit(points)\n",
    "my_bkps = algo.predict(n_bkps=10)\n",
    "rpt.show.display(points, my_bkps, figsize=(10, 6))\n",
    "plt.title('Change Point Detection: Window-Based Search Method')\n",
    "plt.show()\n",
    "    \n",
    "#Changepoint detection with dynamic programming search method\n",
    "model = \"l1\"  \n",
    "algo = rpt.Dynp(model=model, min_size=3, jump=5).fit(points)\n",
    "my_bkps = algo.predict(n_bkps=10)\n",
    "rpt.show.display(points, my_bkps, figsize=(10, 6))\n",
    "plt.title('Change Point Detection: Dynamic Programming Search Method')\n",
    "plt.show()\n",
    "\n",
    "#Format the 'Date' column \n",
    "####miamigage['datetime']=miamigage['datetime'].astype(str).str[:-3]\n",
    "#Convert the Date column into a date object\n",
    "####miamigage['datetime']=pd.to_datetime(miamigage['datetime'], format='%Y-%m-%d')\n",
    "\n",
    "#Subset to only include data going back to 2014\n",
    "#price_df=price_df[(price_df['Date']>='2014-01-01')]    # don't need yet\n",
    "\n",
    "#Convert the time series values to a numpy 1D array\n",
    "####points=np.array(miamigage['stage_ft'])\n",
    "\n",
    "# Levee build date is May 30 2008 \n",
    "\n",
    "\n",
    "#x = 3000 #np.linspace(-4000,4000,10000)\n",
    "#y = 3000\n",
    "#axvline(x=3050)\n",
    "#plt.xlabel('x', color='#1C2833')\n",
    "#plt.ylabel('y', color='#1C2833')\n",
    "#plt.plot(x, y, '-r', label='Levee Construction Date')\n",
    "#plt.title('Levee Construction Date')\n",
    "\n",
    "#plt.legend(loc='upper left')\n",
    "#plt.grid()\n",
    "#plt.show()\n",
    "\n",
    "#library(mcp)\n",
    "#set.seed(42)  \n",
    "#df = data.frame(\n",
    "#    x = miamigage.datetime #1:100, #change these axes, going to be dates instead of 1 to 100\n",
    "#    y = miamigage.stage_ft #change these axes, compare stream stage  time \n",
    "#)\n",
    "#Plot above \n",
    "#plot(df)\n"
   ]
  },
  {
   "cell_type": "code",
   "execution_count": 13,
   "metadata": {},
   "outputs": [],
   "source": [
    "##Latitude/Longitude Box"
   ]
  },
  {
   "cell_type": "code",
   "execution_count": null,
   "metadata": {},
   "outputs": [],
   "source": [
    "#{\n",
    "#    \"gridType\": \"WRS1\",\n",
    "#    \"responseShape\": \"polygon\",\n",
    "#    \"path\": 1,\n",
    "#    \"row\": 1\n",
    "#}\n",
    "#{\n",
    "#    \"errorCode\": null,\n",
    "#    \"error\": \"\",\n",
    "#    \"data\": {\n",
    "#        \"shape\": \"polygon\",\n",
    "#        \"coordinates\": [\n",
    "#            {\n",
    "#                    \"latitude\": 81.022416063373,\n",
    "#                    \"longitude\": 6.9559981722311\n",
    "#            },\n",
    "#            {\n",
    "#                    \"latitude\": 79.487051168895,\n",
    "#                    \"longitude\": 10.556549319804\n",
    "#            },\n",
    "#            {\n",
    "#                    \"latitude\": 78.913203534252,\n",
    "#                    \"longitude\": 3.376814651321\n",
    "#            },\n",
    "#            {\n",
    "#                    \"latitude\": 80.357862865289,\n",
    "#                    \"longitude\": -1.0798837603027\n",
    "#            }\n",
    "#        ]\n",
    "#    },\n",
    "#    \"api_version\": \"1.4.0\",\n",
    "#    \"access_level\": \"user\",\n",
    "#    \"catalog_id\": \"default\",\n",
    "#    \"executionTime\": 0.0075030326843262\n",
    "#}"
   ]
  },
  {
   "cell_type": "code",
   "execution_count": null,
   "metadata": {},
   "outputs": [],
   "source": [
    "## Read in Levee shapefile as a geopandas dataframe (variable name \"levee\")"
   ]
  },
  {
   "cell_type": "code",
   "execution_count": 7,
   "metadata": {},
   "outputs": [
    {
     "ename": "NameError",
     "evalue": "name 'gpd' is not defined",
     "output_type": "error",
     "traceback": [
      "\u001b[1;31m---------------------------------------------------------------------------\u001b[0m",
      "\u001b[1;31mNameError\u001b[0m                                 Traceback (most recent call last)",
      "\u001b[1;32m<ipython-input-7-eede90d6caec>\u001b[0m in \u001b[0;36m<module>\u001b[1;34m\u001b[0m\n\u001b[0;32m      5\u001b[0m \u001b[1;31m#miami_levee = r'C:\\Users\\rgkiey\\miami_levee\\Centerline\\layers'\u001b[0m\u001b[1;33m\u001b[0m\u001b[1;33m\u001b[0m\u001b[1;33m\u001b[0m\u001b[0m\n\u001b[0;32m      6\u001b[0m \u001b[0mmiami_levee\u001b[0m \u001b[1;33m=\u001b[0m \u001b[1;34mr'E:\\NLD_DSWE\\data\\miami_levee\\Centerline\\layers'\u001b[0m\u001b[1;33m\u001b[0m\u001b[1;33m\u001b[0m\u001b[0m\n\u001b[1;32m----> 7\u001b[1;33m \u001b[0mlevee\u001b[0m \u001b[1;33m=\u001b[0m \u001b[0mgpd\u001b[0m\u001b[1;33m.\u001b[0m\u001b[0mread_file\u001b[0m\u001b[1;33m(\u001b[0m\u001b[0mmiami_levee\u001b[0m\u001b[1;33m)\u001b[0m \u001b[1;31m#read in shapefile\u001b[0m\u001b[1;33m\u001b[0m\u001b[1;33m\u001b[0m\u001b[0m\n\u001b[0m\u001b[0;32m      8\u001b[0m \u001b[0mprint\u001b[0m\u001b[1;33m(\u001b[0m\u001b[0mlevee\u001b[0m\u001b[1;33m)\u001b[0m\u001b[1;33m\u001b[0m\u001b[1;33m\u001b[0m\u001b[0m\n",
      "\u001b[1;31mNameError\u001b[0m: name 'gpd' is not defined"
     ]
    }
   ],
   "source": [
    "# gpd.read_file()\n",
    "\n",
    "# OR you can read in the zipped file... might be better because it will take in all files in folder rather than just .shp\n",
    "\n",
    "#miami_levee = r'C:\\Users\\rgkiey\\miami_levee\\Centerline\\layers'\n",
    "miami_levee = r'E:\\NLD_DSWE\\data\\miami_levee\\Centerline\\layers'\n",
    "levee = gpd.read_file(miami_levee) #read in shapefile\n",
    "print(levee)"
   ]
  },
  {
   "cell_type": "code",
   "execution_count": 8,
   "metadata": {},
   "outputs": [],
   "source": [
    "# For more help with getting geopandas.read_file() to do what you want...\n",
    "# import fiona; help(fiona.open)"
   ]
  },
  {
   "cell_type": "code",
   "execution_count": 9,
   "metadata": {},
   "outputs": [
    {
     "name": "stdout",
     "output_type": "stream",
     "text": [
      "         STAID                                            STANAME    CLASS  \\\n",
      "0     01011000                Allagash River near Allagash, Maine  Non-ref   \n",
      "1     01013500                   Fish River near Fort Kent, Maine      Ref   \n",
      "2     01015800               Aroostook River near Masardis, Maine  Non-ref   \n",
      "3     01016500                     MACHIAS RIVER NEAR ASHLAND, ME  Non-ref   \n",
      "4     01017000                 Aroostook River at Washburn, Maine  Non-ref   \n",
      "...        ...                                                ...      ...   \n",
      "9317  50141000                         RIO BLANCO NR ADJUNTAS, PR      Ref   \n",
      "9318  50144000          RIO GRANDE DE ANASCO NR SAN SEBASTIAN, PR  Non-ref   \n",
      "9319  50145395                   RIO CASEI ABV HACIENDA CASEI, PR      Ref   \n",
      "9320  50147800              RIO CULEBRINAS AT HWY 404 NR MOCA, PR  Non-ref   \n",
      "9321  50148890  RIO CULEBRINAS AT MARGARITA DAMSITE NR AGUADA, PR  Non-ref   \n",
      "\n",
      "      AGGECOREGI  DRAIN_SQKM HUC02   LAT_GAGE   LNG_GAGE STATE HCDN_2009  \\\n",
      "0      NorthEast  3186.84400    01  47.069611 -69.079544    ME      None   \n",
      "1      NorthEast  2252.69600    01  47.237394 -68.582642    ME       yes   \n",
      "2      NorthEast  2313.75500    01  46.523003 -68.371764    ME      None   \n",
      "3      NorthEast   847.77210    01  46.628311 -68.434792    ME      None   \n",
      "4      NorthEast  4278.90700    01  46.777294 -68.157194    ME      None   \n",
      "...          ...         ...   ...        ...        ...   ...       ...   \n",
      "9317  PuertoRico    39.33948    21  18.203290 -66.799898    PR      None   \n",
      "9318  PuertoRico   347.29680    21  18.282730 -67.051012    PR      None   \n",
      "9319  PuertoRico    19.31340    21  18.248287 -67.075179    PR      None   \n",
      "9320  PuertoRico   182.70720    21  18.359670 -67.092124    PR      None   \n",
      "9321  PuertoRico   245.51000    21  18.392447 -67.150736    PR      None   \n",
      "\n",
      "     ACTIVE09  FLYRS1900  FLYRS1950  FLYRS1990  \\\n",
      "0         yes       78.0       60.0       20.0   \n",
      "1         yes       85.0       60.0       20.0   \n",
      "2         yes       51.0       51.0       19.0   \n",
      "3        None       32.0       32.0        0.0   \n",
      "4         yes       79.0       60.0       20.0   \n",
      "...       ...        ...        ...        ...   \n",
      "9317     None       24.0       21.0        0.0   \n",
      "9318      yes       45.0       45.0       19.0   \n",
      "9319      yes        5.0        5.0        5.0   \n",
      "9320      yes       42.0       42.0       20.0   \n",
      "9321      yes       11.0       11.0       11.0   \n",
      "\n",
      "                             geometry  \n",
      "0     POINT (2027371.849 2964479.789)  \n",
      "1     POINT (2058479.303 2992966.016)  \n",
      "2     POINT (2096533.991 2921785.543)  \n",
      "3     POINT (2088548.849 2931578.094)  \n",
      "4     POINT (2104213.711 2953507.477)  \n",
      "...                               ...  \n",
      "9317   POINT (3159158.234 -27083.994)  \n",
      "9318   POINT (3130300.977 -27322.701)  \n",
      "9319   POINT (3128868.889 -31619.830)  \n",
      "9320   POINT (3123537.324 -20851.868)  \n",
      "9321   POINT (3116355.637 -19441.921)  \n",
      "\n",
      "[9322 rows x 15 columns]\n"
     ]
    }
   ],
   "source": [
    "## Read in shapefile of USGS gage locations (variable name \"gages\", with shapefile attached to this email) \n",
    "\n",
    "gages = gpd.read_file(r'C:\\Users\\rgkiey\\gagesII_9322_point_shapefile') # read in shapefile\n",
    "print (gages) #print will return the attribute table of shapefile"
   ]
  },
  {
   "cell_type": "code",
   "execution_count": 10,
   "metadata": {},
   "outputs": [
    {
     "data": {
      "text/plain": [
       "<AxesSubplot:>"
      ]
     },
     "execution_count": 10,
     "metadata": {},
     "output_type": "execute_result"
    },
    {
     "data": {
      "image/png": "[encoded data removed]",
      "text/plain": [
       "<Figure size 432x288 with 1 Axes>"
      ]
     },
     "metadata": {
      "needs_background": "light"
     },
     "output_type": "display_data"
    }
   ],
   "source": [
    "%matplotlib inline\n",
    "gages.plot()"
   ]
  },
  {
   "cell_type": "code",
   "execution_count": 11,
   "metadata": {},
   "outputs": [
    {
     "name": "stdout",
     "output_type": "stream",
     "text": [
      "                             name    systemId    segmentI  vertical slopeLan  \\\n",
      "8  8.5 SMA Perimeter Levee L-357W  3405000090  3404000186       0.0      4:1   \n",
      "\n",
      "  slopeWat          id  crestWid  \\\n",
      "8      4:1  3401003060      20.0   \n",
      "\n",
      "                                            floodSou  \\\n",
      "8  Prevent overflow from the Everglades area. Eve...   \n",
      "\n",
      "                         segmentN  length              systemNa  horizont  \\\n",
      "8  8.5 SMA Perimeter Levee L-357W     6.0  8.5 Square Mile Area       0.0   \n",
      "\n",
      "  material               bankside     tycuto  \\\n",
      "8  Earthen  Right descending bank  No Cutoff   \n",
      "\n",
      "                                            coordina  leveeTyp status  \\\n",
      "8  Centimeter Level, used a minimum of 2 GPS rece...  Mainline   None   \n",
      "\n",
      "                                            geometry  \n",
      "8  LINESTRING (-80.53748 25.60934, -80.53748 25.6...  \n"
     ]
    }
   ],
   "source": [
    "#  Subset \"levee\" to only include a certain id within Miami-Dade levee. id is 3401003060\n",
    "\n",
    "levee_points = gpd.read_file(r'C:\\Users\\rgkiey\\miami_levee\\Centerline\\layers') #read in levee as gpd\n",
    "levee_points.id\n",
    "np.unique(levee_points.id) #'id'= 3401003348\n",
    "leveesubset = levee_points[levee_points.id == 3401003060]\n",
    "print(leveesubset)"
   ]
  },
  {
   "cell_type": "code",
   "execution_count": 12,
   "metadata": {},
   "outputs": [
    {
     "data": {
      "text/plain": [
       "<bound method NDFrame.head of                                           name    systemId    segmentI  \\\n",
       "0               8.5 SMA Perimeter Levee L-357W  3405000090  3404000186   \n",
       "1               8.5 SMA Perimeter Levee L-357W  3405000090  3404000186   \n",
       "2  8.5 SMA Seepage Canal Internal Levees L-357  3405000090  3404000185   \n",
       "3  8.5 SMA Seepage Canal Internal Levees L-357  3405000090  3404000185   \n",
       "4  8.5 SMA Seepage Canal Internal Levees L-357  3405000090  3404000185   \n",
       "5  8.5 SMA Seepage Canal Internal Levees L-357  3405000090  3404000185   \n",
       "6  8.5 SMA Seepage Canal Internal Levees L-357  3405000090  3404000185   \n",
       "7  8.5 SMA Seepage Canal Internal Levees L-357  3405000090  3404000185   \n",
       "8               8.5 SMA Perimeter Levee L-357W  3405000090  3404000186   \n",
       "9               8.5 SMA Perimeter Levee L-357W  3405000090  3404000186   \n",
       "\n",
       "   vertical slopeLan slopeWat          id  crestWid  \\\n",
       "0       0.0      4:1      4:1  3401003063      12.0   \n",
       "1       NaN     None     None  3401004090       NaN   \n",
       "2       0.0      4:1      4:1  3401003351      12.0   \n",
       "3       0.0      7:1      7:1  3401003350      12.0   \n",
       "4       0.0      9:1     12:1  3401003349      12.0   \n",
       "5       0.0      6:1      6:1  3401003348      12.0   \n",
       "6       0.0      7:1      5:1  3401003347      12.0   \n",
       "7       0.0      6:1      4:1  3401003066      12.0   \n",
       "8       0.0      4:1      4:1  3401003060      20.0   \n",
       "9       NaN     None     None  3401004091       NaN   \n",
       "\n",
       "                                            floodSou  \\\n",
       "0  Prevent overflow from the Everglades area. Eve...   \n",
       "1                                               None   \n",
       "2  Prevent overflow from the Everglades area. Eve...   \n",
       "3  Prevent overflow from the Everglades area. Eve...   \n",
       "4  Prevent overflow from the Everglades area. Eve...   \n",
       "5  Prevent overflow from the Everglades area. Eve...   \n",
       "6  Prevent overflow from the Everglades area. Eve...   \n",
       "7  Prevent overflow from the Everglades area. Eve...   \n",
       "8  Prevent overflow from the Everglades area. Eve...   \n",
       "9                                               None   \n",
       "\n",
       "                                      segmentN  length              systemNa  \\\n",
       "0               8.5 SMA Perimeter Levee L-357W     1.0  8.5 Square Mile Area   \n",
       "1               8.5 SMA Perimeter Levee L-357W     NaN  8.5 Square Mile Area   \n",
       "2  8.5 SMA Seepage Canal Internal Levees L-357     1.0  8.5 Square Mile Area   \n",
       "3  8.5 SMA Seepage Canal Internal Levees L-357     1.0  8.5 Square Mile Area   \n",
       "4  8.5 SMA Seepage Canal Internal Levees L-357     1.0  8.5 Square Mile Area   \n",
       "5  8.5 SMA Seepage Canal Internal Levees L-357     1.0  8.5 Square Mile Area   \n",
       "6  8.5 SMA Seepage Canal Internal Levees L-357     0.0  8.5 Square Mile Area   \n",
       "7  8.5 SMA Seepage Canal Internal Levees L-357     0.0  8.5 Square Mile Area   \n",
       "8               8.5 SMA Perimeter Levee L-357W     6.0  8.5 Square Mile Area   \n",
       "9               8.5 SMA Perimeter Levee L-357W     NaN  8.5 Square Mile Area   \n",
       "\n",
       "   horizont material               bankside     tycuto  \\\n",
       "0       0.0  Earthen  Right descending bank  No Cutoff   \n",
       "1       NaN  Earthen                   None  No Cutoff   \n",
       "2       0.0  Earthen  Right descending bank  No Cutoff   \n",
       "3       0.0  Earthen  Right descending bank  No Cutoff   \n",
       "4       0.0  Earthen  Right descending bank  No Cutoff   \n",
       "5       0.0  Earthen  Right descending bank  No Cutoff   \n",
       "6       0.0  Earthen  Right descending bank  No Cutoff   \n",
       "7       0.0  Earthen  Right descending bank  No Cutoff   \n",
       "8       0.0  Earthen  Right descending bank  No Cutoff   \n",
       "9       NaN  Earthen                   None  No Cutoff   \n",
       "\n",
       "                                            coordina  leveeTyp status  \\\n",
       "0  Centimeter Level, used a minimum of 2 GPS rece...  Mainline   None   \n",
       "1  Centimeter Level, used a minimum of 2 GPS rece...  Mainline   None   \n",
       "2  Centimeter Level, used a minimum of 2 GPS rece...  Mainline   None   \n",
       "3  Centimeter Level, used a minimum of 2 GPS rece...  Mainline   None   \n",
       "4  Centimeter Level, used a minimum of 2 GPS rece...  Mainline   None   \n",
       "5  Centimeter Level, used a minimum of 2 GPS rece...  Mainline   None   \n",
       "6  Centimeter Level, used a minimum of 2 GPS rece...  Mainline   None   \n",
       "7  Centimeter Level, used a minimum of 2 GPS rece...  Mainline   None   \n",
       "8  Centimeter Level, used a minimum of 2 GPS rece...  Mainline   None   \n",
       "9                                Heads-up digitizing  Mainline   None   \n",
       "\n",
       "                                            geometry  \n",
       "0  LINESTRING (-80.53907 25.59518, -80.53908 25.5...  \n",
       "1  LINESTRING (-80.53764 25.60291, -80.53763 25.6...  \n",
       "2  LINESTRING (-80.52522 25.63765, -80.52522 25.6...  \n",
       "3  LINESTRING (-80.52583 25.63765, -80.52584 25.6...  \n",
       "4  LINESTRING (-80.52533 25.62312, -80.52533 25.6...  \n",
       "5  LINESTRING (-80.52472 25.62313, -80.52472 25.6...  \n",
       "6  LINESTRING (-80.52422 25.60868, -80.52423 25.6...  \n",
       "7  LINESTRING (-80.52485 25.60868, -80.52485 25.6...  \n",
       "8  LINESTRING (-80.53748 25.60934, -80.53748 25.6...  \n",
       "9  LINESTRING (-80.53748 25.60934, -80.53748 25.6...  >"
      ]
     },
     "execution_count": 12,
     "metadata": {},
     "output_type": "execute_result"
    }
   ],
   "source": [
    "type(levee)\n",
    "levee.head"
   ]
  },
  {
   "cell_type": "code",
   "execution_count": 13,
   "metadata": {},
   "outputs": [],
   "source": [
    "## Subset dataframe to include only the levee that you want to test (see code above, use pandas indexing)"
   ]
  },
  {
   "cell_type": "code",
   "execution_count": 14,
   "metadata": {},
   "outputs": [],
   "source": [
    "#SEE ABOVE\n",
    "#subset_test=subset.loc[subset['SystemID']==<3405000090>] #miami_test will serve as your subset"
   ]
  },
  {
   "cell_type": "code",
   "execution_count": 15,
   "metadata": {},
   "outputs": [],
   "source": [
    "## Create 4 new columns on \"levee\" called: \"xmin\" \"xmax\" \"ymin\" \"ymax\".  Here \"x\" refers to longitude,\n",
    "## \"y\" refers to latitude. We're creating the bounding box of our study area. They should be filed \n",
    "## with nan values or -9999 (bc no coordinate is -9999, lets us find it later to convert it to nan). "
   ]
  },
  {
   "cell_type": "code",
   "execution_count": 16,
   "metadata": {},
   "outputs": [
    {
     "ename": "NameError",
     "evalue": "name 'subset_test' is not defined",
     "output_type": "error",
     "traceback": [
      "\u001b[1;31m---------------------------------------------------------------------------\u001b[0m",
      "\u001b[1;31mNameError\u001b[0m                                 Traceback (most recent call last)",
      "\u001b[1;32m<ipython-input-16-2a16e69f0e7c>\u001b[0m in \u001b[0;36m<module>\u001b[1;34m\u001b[0m\n\u001b[1;32m----> 1\u001b[1;33m \u001b[0msubset_test\u001b[0m\u001b[1;33m=\u001b[0m\u001b[0msubset_test\u001b[0m\u001b[1;33m.\u001b[0m\u001b[0massign\u001b[0m\u001b[1;33m(\u001b[0m\u001b[0mxmin\u001b[0m\u001b[1;33m=\u001b[0m\u001b[0mnp\u001b[0m\u001b[1;33m.\u001b[0m\u001b[0mnan\u001b[0m\u001b[1;33m)\u001b[0m\u001b[1;33m\u001b[0m\u001b[1;33m\u001b[0m\u001b[0m\n\u001b[0m\u001b[0;32m      2\u001b[0m \u001b[0msubset_test\u001b[0m\u001b[1;33m=\u001b[0m\u001b[0msubset_test\u001b[0m\u001b[1;33m.\u001b[0m\u001b[0massign\u001b[0m\u001b[1;33m(\u001b[0m\u001b[0mxmax\u001b[0m\u001b[1;33m=\u001b[0m\u001b[0mnp\u001b[0m\u001b[1;33m.\u001b[0m\u001b[0mnan\u001b[0m\u001b[1;33m)\u001b[0m\u001b[1;33m\u001b[0m\u001b[1;33m\u001b[0m\u001b[0m\n\u001b[0;32m      3\u001b[0m \u001b[0msubset_test\u001b[0m\u001b[1;33m=\u001b[0m\u001b[0msubset_test\u001b[0m\u001b[1;33m.\u001b[0m\u001b[0massign\u001b[0m\u001b[1;33m(\u001b[0m\u001b[0mymin\u001b[0m\u001b[1;33m=\u001b[0m\u001b[0mnp\u001b[0m\u001b[1;33m.\u001b[0m\u001b[0mnan\u001b[0m\u001b[1;33m)\u001b[0m\u001b[1;33m\u001b[0m\u001b[1;33m\u001b[0m\u001b[0m\n\u001b[0;32m      4\u001b[0m \u001b[0msubset_test\u001b[0m\u001b[1;33m=\u001b[0m\u001b[0msubset_test\u001b[0m\u001b[1;33m.\u001b[0m\u001b[0massign\u001b[0m\u001b[1;33m(\u001b[0m\u001b[0mymax\u001b[0m\u001b[1;33m=\u001b[0m\u001b[0mnp\u001b[0m\u001b[1;33m.\u001b[0m\u001b[0mnan\u001b[0m\u001b[1;33m)\u001b[0m\u001b[1;33m\u001b[0m\u001b[1;33m\u001b[0m\u001b[0m\n",
      "\u001b[1;31mNameError\u001b[0m: name 'subset_test' is not defined"
     ]
    }
   ],
   "source": [
    "subset_test=subset_test.assign(xmin=np.nan)\n",
    "subset_test=subset_test.assign(xmax=np.nan)\n",
    "subset_test=subset_test.assign(ymin=np.nan)\n",
    "subset_test=subset_test.assign(ymax=np.nan)"
   ]
  },
  {
   "cell_type": "code",
   "execution_count": 17,
   "metadata": {},
   "outputs": [
    {
     "ename": "SyntaxError",
     "evalue": "invalid syntax (<ipython-input-17-4becf0cc5167>, line 3)",
     "output_type": "error",
     "traceback": [
      "\u001b[1;36m  File \u001b[1;32m\"<ipython-input-17-4becf0cc5167>\"\u001b[1;36m, line \u001b[1;32m3\u001b[0m\n\u001b[1;33m    subset_test.at[i,'xmin']=<25.454>\u001b[0m\n\u001b[1;37m                             ^\u001b[0m\n\u001b[1;31mSyntaxError\u001b[0m\u001b[1;31m:\u001b[0m invalid syntax\n"
     ]
    }
   ],
   "source": [
    "## For your single-row geopandas data frame, assign bounding box values manually\n",
    "i=0\n",
    "subset_test.at[i,'xmin']=<25.454>\n",
    "subset_test.at[i,'xmax']=<25.760>\n",
    "subset_test.at[i,'ymin']=<-80.671>\n",
    "subset_test.at[i,'ymax']=<-80.477>"
   ]
  },
  {
   "cell_type": "code",
   "execution_count": 18,
   "metadata": {},
   "outputs": [],
   "source": [
    "## Use Earth Explorer API to identify download links for all DSWE tiles within bounding box coordinates \n",
    "## (can be pulled directly from \"levee\" dataframe). Save list of download links as a file named using levee ID. "
   ]
  },
  {
   "cell_type": "code",
   "execution_count": 1,
   "metadata": {},
   "outputs": [],
   "source": [
    "# This is the old version that I got an API key to appear for. \n",
    "import requests, json\n",
    "import numpy as np\n",
    "import pandas as pd\n",
    "import sys\n",
    "import time\n",
    "import argparse\n",
    "import os\n",
    "\n",
    "from pandas.io.json import json_normalize\n",
    "from datetime import datetime, timedelta\n",
    "from zipfile import ZipFile"
   ]
  },
  {
   "cell_type": "code",
   "execution_count": 2,
   "metadata": {},
   "outputs": [],
   "source": [
    "m2mhost = 'https://m2m.cr.usgs.gov/api/api/json/stable/'"
   ]
  },
  {
   "cell_type": "code",
   "execution_count": 3,
   "metadata": {},
   "outputs": [
    {
     "name": "stdout",
     "output_type": "stream",
     "text": [
      "API Key Received: eyJjaWQiOjI0NDg3MDg1LCJzIjoiMTYwODIzNzM2NCIsInIiOjYwMCwicCI6W119\n"
     ]
    }
   ],
   "source": [
    "data = { 'username' : 'ryankiey0804', 'password' : 'Kiey2020Soccer4429', 'authType' : 'EROS', 'catalogID' : 'EE' }\n",
    "json_data = {'jsonRequest' : json.dumps(data)}\n",
    "url = m2mhost + 'login'\n",
    "\n",
    "response = requests.post(url, data=json.dumps(data));\n",
    "json_response = response.json()\n",
    "\n",
    "if json_response['data'] is not None:\n",
    "    api_key = json_response['data']\n",
    "    print('API Key Received: {}'.format(api_key))\n",
    "elif json_response['error'] is not None:\n",
    "    print(json_response['error'])\n",
    "else:\n",
    "    print('Something went wrong')"
   ]
  },
  {
   "cell_type": "code",
   "execution_count": null,
   "metadata": {},
   "outputs": [],
   "source": [
    "# Earth Explorer API to ID download links for all DSWE tiles within bounding box coordinates"
   ]
  },
  {
   "cell_type": "code",
   "execution_count": null,
   "metadata": {},
   "outputs": [],
   "source": [
    " "
   ]
  },
  {
   "cell_type": "code",
   "execution_count": 5,
   "metadata": {},
   "outputs": [
    {
     "ename": "JSONDecodeError",
     "evalue": "Expecting value: line 1 column 1 (char 0)",
     "output_type": "error",
     "traceback": [
      "\u001b[1;31m---------------------------------------------------------------------------\u001b[0m",
      "\u001b[1;31mJSONDecodeError\u001b[0m                           Traceback (most recent call last)",
      "\u001b[1;32m<ipython-input-5-ee63386e8d67>\u001b[0m in \u001b[0;36m<module>\u001b[1;34m\u001b[0m\n\u001b[0;32m      6\u001b[0m \u001b[0mdataset_response\u001b[0m \u001b[1;33m=\u001b[0m \u001b[0mrequests\u001b[0m\u001b[1;33m.\u001b[0m\u001b[0mpost\u001b[0m\u001b[1;33m(\u001b[0m\u001b[0mdataset_url\u001b[0m\u001b[1;33m,\u001b[0m \u001b[0mdata\u001b[0m\u001b[1;33m=\u001b[0m\u001b[0mdataset_json\u001b[0m\u001b[1;33m)\u001b[0m\u001b[1;33m\u001b[0m\u001b[1;33m\u001b[0m\u001b[0m\n\u001b[0;32m      7\u001b[0m \u001b[1;33m\u001b[0m\u001b[0m\n\u001b[1;32m----> 8\u001b[1;33m \u001b[0mdataset_rjson\u001b[0m \u001b[1;33m=\u001b[0m \u001b[0mdataset_response\u001b[0m\u001b[1;33m.\u001b[0m\u001b[0mjson\u001b[0m\u001b[1;33m(\u001b[0m\u001b[1;33m)\u001b[0m\u001b[1;33m\u001b[0m\u001b[1;33m\u001b[0m\u001b[0m\n\u001b[0m\u001b[0;32m      9\u001b[0m \u001b[0mdata\u001b[0m\u001b[1;33m\u001b[0m\u001b[1;33m\u001b[0m\u001b[0m\n\u001b[0;32m     10\u001b[0m \u001b[0minfo\u001b[0m \u001b[1;33m=\u001b[0m \u001b[0mjson\u001b[0m\u001b[1;33m.\u001b[0m\u001b[0mloads\u001b[0m\u001b[1;33m(\u001b[0m\u001b[0mjs\u001b[0m\u001b[1;33m.\u001b[0m\u001b[0mdecode\u001b[0m\u001b[1;33m(\u001b[0m\u001b[1;34m\"utf-8\"\u001b[0m\u001b[1;33m)\u001b[0m\u001b[1;33m)\u001b[0m\u001b[1;33m\u001b[0m\u001b[1;33m\u001b[0m\u001b[0m\n",
      "\u001b[1;32mC:\\Apps-SU\\Anaconda3\\envs\\geostats_env2\\lib\\site-packages\\requests\\models.py\u001b[0m in \u001b[0;36mjson\u001b[1;34m(self, **kwargs)\u001b[0m\n\u001b[0;32m    896\u001b[0m                     \u001b[1;31m# used.\u001b[0m\u001b[1;33m\u001b[0m\u001b[1;33m\u001b[0m\u001b[1;33m\u001b[0m\u001b[0m\n\u001b[0;32m    897\u001b[0m                     \u001b[1;32mpass\u001b[0m\u001b[1;33m\u001b[0m\u001b[1;33m\u001b[0m\u001b[0m\n\u001b[1;32m--> 898\u001b[1;33m         \u001b[1;32mreturn\u001b[0m \u001b[0mcomplexjson\u001b[0m\u001b[1;33m.\u001b[0m\u001b[0mloads\u001b[0m\u001b[1;33m(\u001b[0m\u001b[0mself\u001b[0m\u001b[1;33m.\u001b[0m\u001b[0mtext\u001b[0m\u001b[1;33m,\u001b[0m \u001b[1;33m**\u001b[0m\u001b[0mkwargs\u001b[0m\u001b[1;33m)\u001b[0m\u001b[1;33m\u001b[0m\u001b[1;33m\u001b[0m\u001b[0m\n\u001b[0m\u001b[0;32m    899\u001b[0m \u001b[1;33m\u001b[0m\u001b[0m\n\u001b[0;32m    900\u001b[0m     \u001b[1;33m@\u001b[0m\u001b[0mproperty\u001b[0m\u001b[1;33m\u001b[0m\u001b[1;33m\u001b[0m\u001b[0m\n",
      "\u001b[1;32mC:\\Apps-SU\\Anaconda3\\envs\\geostats_env2\\lib\\site-packages\\simplejson\\__init__.py\u001b[0m in \u001b[0;36mloads\u001b[1;34m(s, encoding, cls, object_hook, parse_float, parse_int, parse_constant, object_pairs_hook, use_decimal, **kw)\u001b[0m\n\u001b[0;32m    523\u001b[0m             \u001b[0mparse_constant\u001b[0m \u001b[1;32mis\u001b[0m \u001b[1;32mNone\u001b[0m \u001b[1;32mand\u001b[0m \u001b[0mobject_pairs_hook\u001b[0m \u001b[1;32mis\u001b[0m \u001b[1;32mNone\u001b[0m\u001b[1;33m\u001b[0m\u001b[1;33m\u001b[0m\u001b[0m\n\u001b[0;32m    524\u001b[0m             and not use_decimal and not kw):\n\u001b[1;32m--> 525\u001b[1;33m         \u001b[1;32mreturn\u001b[0m \u001b[0m_default_decoder\u001b[0m\u001b[1;33m.\u001b[0m\u001b[0mdecode\u001b[0m\u001b[1;33m(\u001b[0m\u001b[0ms\u001b[0m\u001b[1;33m)\u001b[0m\u001b[1;33m\u001b[0m\u001b[1;33m\u001b[0m\u001b[0m\n\u001b[0m\u001b[0;32m    526\u001b[0m     \u001b[1;32mif\u001b[0m \u001b[0mcls\u001b[0m \u001b[1;32mis\u001b[0m \u001b[1;32mNone\u001b[0m\u001b[1;33m:\u001b[0m\u001b[1;33m\u001b[0m\u001b[1;33m\u001b[0m\u001b[0m\n\u001b[0;32m    527\u001b[0m         \u001b[0mcls\u001b[0m \u001b[1;33m=\u001b[0m \u001b[0mJSONDecoder\u001b[0m\u001b[1;33m\u001b[0m\u001b[1;33m\u001b[0m\u001b[0m\n",
      "\u001b[1;32mC:\\Apps-SU\\Anaconda3\\envs\\geostats_env2\\lib\\site-packages\\simplejson\\decoder.py\u001b[0m in \u001b[0;36mdecode\u001b[1;34m(self, s, _w, _PY3)\u001b[0m\n\u001b[0;32m    368\u001b[0m         \u001b[1;32mif\u001b[0m \u001b[0m_PY3\u001b[0m \u001b[1;32mand\u001b[0m \u001b[0misinstance\u001b[0m\u001b[1;33m(\u001b[0m\u001b[0ms\u001b[0m\u001b[1;33m,\u001b[0m \u001b[0mbytes\u001b[0m\u001b[1;33m)\u001b[0m\u001b[1;33m:\u001b[0m\u001b[1;33m\u001b[0m\u001b[1;33m\u001b[0m\u001b[0m\n\u001b[0;32m    369\u001b[0m             \u001b[0ms\u001b[0m \u001b[1;33m=\u001b[0m \u001b[0mstr\u001b[0m\u001b[1;33m(\u001b[0m\u001b[0ms\u001b[0m\u001b[1;33m,\u001b[0m \u001b[0mself\u001b[0m\u001b[1;33m.\u001b[0m\u001b[0mencoding\u001b[0m\u001b[1;33m)\u001b[0m\u001b[1;33m\u001b[0m\u001b[1;33m\u001b[0m\u001b[0m\n\u001b[1;32m--> 370\u001b[1;33m         \u001b[0mobj\u001b[0m\u001b[1;33m,\u001b[0m \u001b[0mend\u001b[0m \u001b[1;33m=\u001b[0m \u001b[0mself\u001b[0m\u001b[1;33m.\u001b[0m\u001b[0mraw_decode\u001b[0m\u001b[1;33m(\u001b[0m\u001b[0ms\u001b[0m\u001b[1;33m)\u001b[0m\u001b[1;33m\u001b[0m\u001b[1;33m\u001b[0m\u001b[0m\n\u001b[0m\u001b[0;32m    371\u001b[0m         \u001b[0mend\u001b[0m \u001b[1;33m=\u001b[0m \u001b[0m_w\u001b[0m\u001b[1;33m(\u001b[0m\u001b[0ms\u001b[0m\u001b[1;33m,\u001b[0m \u001b[0mend\u001b[0m\u001b[1;33m)\u001b[0m\u001b[1;33m.\u001b[0m\u001b[0mend\u001b[0m\u001b[1;33m(\u001b[0m\u001b[1;33m)\u001b[0m\u001b[1;33m\u001b[0m\u001b[1;33m\u001b[0m\u001b[0m\n\u001b[0;32m    372\u001b[0m         \u001b[1;32mif\u001b[0m \u001b[0mend\u001b[0m \u001b[1;33m!=\u001b[0m \u001b[0mlen\u001b[0m\u001b[1;33m(\u001b[0m\u001b[0ms\u001b[0m\u001b[1;33m)\u001b[0m\u001b[1;33m:\u001b[0m\u001b[1;33m\u001b[0m\u001b[1;33m\u001b[0m\u001b[0m\n",
      "\u001b[1;32mC:\\Apps-SU\\Anaconda3\\envs\\geostats_env2\\lib\\site-packages\\simplejson\\decoder.py\u001b[0m in \u001b[0;36mraw_decode\u001b[1;34m(self, s, idx, _w, _PY3)\u001b[0m\n\u001b[0;32m    398\u001b[0m             \u001b[1;32melif\u001b[0m \u001b[0mord0\u001b[0m \u001b[1;33m==\u001b[0m \u001b[1;36m0xef\u001b[0m \u001b[1;32mand\u001b[0m \u001b[0ms\u001b[0m\u001b[1;33m[\u001b[0m\u001b[0midx\u001b[0m\u001b[1;33m:\u001b[0m\u001b[0midx\u001b[0m \u001b[1;33m+\u001b[0m \u001b[1;36m3\u001b[0m\u001b[1;33m]\u001b[0m \u001b[1;33m==\u001b[0m \u001b[1;34m'\\xef\\xbb\\xbf'\u001b[0m\u001b[1;33m:\u001b[0m\u001b[1;33m\u001b[0m\u001b[1;33m\u001b[0m\u001b[0m\n\u001b[0;32m    399\u001b[0m                 \u001b[0midx\u001b[0m \u001b[1;33m+=\u001b[0m \u001b[1;36m3\u001b[0m\u001b[1;33m\u001b[0m\u001b[1;33m\u001b[0m\u001b[0m\n\u001b[1;32m--> 400\u001b[1;33m         \u001b[1;32mreturn\u001b[0m \u001b[0mself\u001b[0m\u001b[1;33m.\u001b[0m\u001b[0mscan_once\u001b[0m\u001b[1;33m(\u001b[0m\u001b[0ms\u001b[0m\u001b[1;33m,\u001b[0m \u001b[0midx\u001b[0m\u001b[1;33m=\u001b[0m\u001b[0m_w\u001b[0m\u001b[1;33m(\u001b[0m\u001b[0ms\u001b[0m\u001b[1;33m,\u001b[0m \u001b[0midx\u001b[0m\u001b[1;33m)\u001b[0m\u001b[1;33m.\u001b[0m\u001b[0mend\u001b[0m\u001b[1;33m(\u001b[0m\u001b[1;33m)\u001b[0m\u001b[1;33m)\u001b[0m\u001b[1;33m\u001b[0m\u001b[1;33m\u001b[0m\u001b[0m\n\u001b[0m",
      "\u001b[1;31mJSONDecodeError\u001b[0m: Expecting value: line 1 column 1 (char 0)"
     ]
    }
   ],
   "source": [
    "# Search for Datasets by name\n",
    "# Using a filter on dataset name to only get datasets with 'DSWE' in the name\n",
    "dataset_filter = { 'apiKey' : api_key , 'datasetName': 'DSWE' } \n",
    "dataset_json = {'jsonRequest' : json.dumps(dataset_filter)}\n",
    "dataset_url = m2mhost + 'datasets/'\n",
    "dataset_response = requests.post(dataset_url, data=dataset_json)\n",
    "\n",
    "dataset_rjson = dataset_response.json()\n",
    "data\n",
    "#info = json.loads(js.decode(\"utf-8\")) \n",
    "\n",
    "if dataset_rjson['data'] is not None:\n",
    "    for datasets in dataset_rjson['data']:\n",
    "        print(\"Dataset {}: {}\".format(datasets['datasetName'],datasets['datasetFullName']))\n",
    "else:\n",
    "    print('No datasets return or an error occurred')\n"
   ]
  },
  {
   "cell_type": "code",
   "execution_count": 21,
   "metadata": {},
   "outputs": [],
   "source": [
    "# Searching an Earth Explorer dataset.."
   ]
  },
  {
   "cell_type": "code",
   "execution_count": 22,
   "metadata": {},
   "outputs": [
    {
     "name": "stdout",
     "output_type": "stream",
     "text": [
      "Searching for SP_TILE_DSWE\n"
     ]
    },
    {
     "ename": "JSONDecodeError",
     "evalue": "Expecting value: line 1 column 1 (char 0)",
     "output_type": "error",
     "traceback": [
      "\u001b[1;31m---------------------------------------------------------------------------\u001b[0m",
      "\u001b[1;31mJSONDecodeError\u001b[0m                           Traceback (most recent call last)",
      "\u001b[1;32m<ipython-input-22-c2b64657aaae>\u001b[0m in \u001b[0;36m<module>\u001b[1;34m\u001b[0m\n\u001b[0;32m     24\u001b[0m \u001b[1;33m\u001b[0m\u001b[0m\n\u001b[0;32m     25\u001b[0m \u001b[1;31m# Format the reponse as json\u001b[0m\u001b[1;33m\u001b[0m\u001b[1;33m\u001b[0m\u001b[1;33m\u001b[0m\u001b[0m\n\u001b[1;32m---> 26\u001b[1;33m \u001b[0mjson_response\u001b[0m \u001b[1;33m=\u001b[0m \u001b[0mresponse\u001b[0m\u001b[1;33m.\u001b[0m\u001b[0mjson\u001b[0m\u001b[1;33m(\u001b[0m\u001b[1;33m)\u001b[0m\u001b[1;33m\u001b[0m\u001b[1;33m\u001b[0m\u001b[0m\n\u001b[0m\u001b[0;32m     27\u001b[0m \u001b[1;33m\u001b[0m\u001b[0m\n\u001b[0;32m     28\u001b[0m \u001b[1;33m\u001b[0m\u001b[0m\n",
      "\u001b[1;32mC:\\Apps-SU\\Anaconda3\\envs\\geostats_env2\\lib\\site-packages\\requests\\models.py\u001b[0m in \u001b[0;36mjson\u001b[1;34m(self, **kwargs)\u001b[0m\n\u001b[0;32m    896\u001b[0m                     \u001b[1;31m# used.\u001b[0m\u001b[1;33m\u001b[0m\u001b[1;33m\u001b[0m\u001b[1;33m\u001b[0m\u001b[0m\n\u001b[0;32m    897\u001b[0m                     \u001b[1;32mpass\u001b[0m\u001b[1;33m\u001b[0m\u001b[1;33m\u001b[0m\u001b[0m\n\u001b[1;32m--> 898\u001b[1;33m         \u001b[1;32mreturn\u001b[0m \u001b[0mcomplexjson\u001b[0m\u001b[1;33m.\u001b[0m\u001b[0mloads\u001b[0m\u001b[1;33m(\u001b[0m\u001b[0mself\u001b[0m\u001b[1;33m.\u001b[0m\u001b[0mtext\u001b[0m\u001b[1;33m,\u001b[0m \u001b[1;33m**\u001b[0m\u001b[0mkwargs\u001b[0m\u001b[1;33m)\u001b[0m\u001b[1;33m\u001b[0m\u001b[1;33m\u001b[0m\u001b[0m\n\u001b[0m\u001b[0;32m    899\u001b[0m \u001b[1;33m\u001b[0m\u001b[0m\n\u001b[0;32m    900\u001b[0m     \u001b[1;33m@\u001b[0m\u001b[0mproperty\u001b[0m\u001b[1;33m\u001b[0m\u001b[1;33m\u001b[0m\u001b[0m\n",
      "\u001b[1;32mC:\\Apps-SU\\Anaconda3\\envs\\geostats_env2\\lib\\site-packages\\simplejson\\__init__.py\u001b[0m in \u001b[0;36mloads\u001b[1;34m(s, encoding, cls, object_hook, parse_float, parse_int, parse_constant, object_pairs_hook, use_decimal, **kw)\u001b[0m\n\u001b[0;32m    523\u001b[0m             \u001b[0mparse_constant\u001b[0m \u001b[1;32mis\u001b[0m \u001b[1;32mNone\u001b[0m \u001b[1;32mand\u001b[0m \u001b[0mobject_pairs_hook\u001b[0m \u001b[1;32mis\u001b[0m \u001b[1;32mNone\u001b[0m\u001b[1;33m\u001b[0m\u001b[1;33m\u001b[0m\u001b[0m\n\u001b[0;32m    524\u001b[0m             and not use_decimal and not kw):\n\u001b[1;32m--> 525\u001b[1;33m         \u001b[1;32mreturn\u001b[0m \u001b[0m_default_decoder\u001b[0m\u001b[1;33m.\u001b[0m\u001b[0mdecode\u001b[0m\u001b[1;33m(\u001b[0m\u001b[0ms\u001b[0m\u001b[1;33m)\u001b[0m\u001b[1;33m\u001b[0m\u001b[1;33m\u001b[0m\u001b[0m\n\u001b[0m\u001b[0;32m    526\u001b[0m     \u001b[1;32mif\u001b[0m \u001b[0mcls\u001b[0m \u001b[1;32mis\u001b[0m \u001b[1;32mNone\u001b[0m\u001b[1;33m:\u001b[0m\u001b[1;33m\u001b[0m\u001b[1;33m\u001b[0m\u001b[0m\n\u001b[0;32m    527\u001b[0m         \u001b[0mcls\u001b[0m \u001b[1;33m=\u001b[0m \u001b[0mJSONDecoder\u001b[0m\u001b[1;33m\u001b[0m\u001b[1;33m\u001b[0m\u001b[0m\n",
      "\u001b[1;32mC:\\Apps-SU\\Anaconda3\\envs\\geostats_env2\\lib\\site-packages\\simplejson\\decoder.py\u001b[0m in \u001b[0;36mdecode\u001b[1;34m(self, s, _w, _PY3)\u001b[0m\n\u001b[0;32m    368\u001b[0m         \u001b[1;32mif\u001b[0m \u001b[0m_PY3\u001b[0m \u001b[1;32mand\u001b[0m \u001b[0misinstance\u001b[0m\u001b[1;33m(\u001b[0m\u001b[0ms\u001b[0m\u001b[1;33m,\u001b[0m \u001b[0mbytes\u001b[0m\u001b[1;33m)\u001b[0m\u001b[1;33m:\u001b[0m\u001b[1;33m\u001b[0m\u001b[1;33m\u001b[0m\u001b[0m\n\u001b[0;32m    369\u001b[0m             \u001b[0ms\u001b[0m \u001b[1;33m=\u001b[0m \u001b[0mstr\u001b[0m\u001b[1;33m(\u001b[0m\u001b[0ms\u001b[0m\u001b[1;33m,\u001b[0m \u001b[0mself\u001b[0m\u001b[1;33m.\u001b[0m\u001b[0mencoding\u001b[0m\u001b[1;33m)\u001b[0m\u001b[1;33m\u001b[0m\u001b[1;33m\u001b[0m\u001b[0m\n\u001b[1;32m--> 370\u001b[1;33m         \u001b[0mobj\u001b[0m\u001b[1;33m,\u001b[0m \u001b[0mend\u001b[0m \u001b[1;33m=\u001b[0m \u001b[0mself\u001b[0m\u001b[1;33m.\u001b[0m\u001b[0mraw_decode\u001b[0m\u001b[1;33m(\u001b[0m\u001b[0ms\u001b[0m\u001b[1;33m)\u001b[0m\u001b[1;33m\u001b[0m\u001b[1;33m\u001b[0m\u001b[0m\n\u001b[0m\u001b[0;32m    371\u001b[0m         \u001b[0mend\u001b[0m \u001b[1;33m=\u001b[0m \u001b[0m_w\u001b[0m\u001b[1;33m(\u001b[0m\u001b[0ms\u001b[0m\u001b[1;33m,\u001b[0m \u001b[0mend\u001b[0m\u001b[1;33m)\u001b[0m\u001b[1;33m.\u001b[0m\u001b[0mend\u001b[0m\u001b[1;33m(\u001b[0m\u001b[1;33m)\u001b[0m\u001b[1;33m\u001b[0m\u001b[1;33m\u001b[0m\u001b[0m\n\u001b[0;32m    372\u001b[0m         \u001b[1;32mif\u001b[0m \u001b[0mend\u001b[0m \u001b[1;33m!=\u001b[0m \u001b[0mlen\u001b[0m\u001b[1;33m(\u001b[0m\u001b[0ms\u001b[0m\u001b[1;33m)\u001b[0m\u001b[1;33m:\u001b[0m\u001b[1;33m\u001b[0m\u001b[1;33m\u001b[0m\u001b[0m\n",
      "\u001b[1;32mC:\\Apps-SU\\Anaconda3\\envs\\geostats_env2\\lib\\site-packages\\simplejson\\decoder.py\u001b[0m in \u001b[0;36mraw_decode\u001b[1;34m(self, s, idx, _w, _PY3)\u001b[0m\n\u001b[0;32m    398\u001b[0m             \u001b[1;32melif\u001b[0m \u001b[0mord0\u001b[0m \u001b[1;33m==\u001b[0m \u001b[1;36m0xef\u001b[0m \u001b[1;32mand\u001b[0m \u001b[0ms\u001b[0m\u001b[1;33m[\u001b[0m\u001b[0midx\u001b[0m\u001b[1;33m:\u001b[0m\u001b[0midx\u001b[0m \u001b[1;33m+\u001b[0m \u001b[1;36m3\u001b[0m\u001b[1;33m]\u001b[0m \u001b[1;33m==\u001b[0m \u001b[1;34m'\\xef\\xbb\\xbf'\u001b[0m\u001b[1;33m:\u001b[0m\u001b[1;33m\u001b[0m\u001b[1;33m\u001b[0m\u001b[0m\n\u001b[0;32m    399\u001b[0m                 \u001b[0midx\u001b[0m \u001b[1;33m+=\u001b[0m \u001b[1;36m3\u001b[0m\u001b[1;33m\u001b[0m\u001b[1;33m\u001b[0m\u001b[0m\n\u001b[1;32m--> 400\u001b[1;33m         \u001b[1;32mreturn\u001b[0m \u001b[0mself\u001b[0m\u001b[1;33m.\u001b[0m\u001b[0mscan_once\u001b[0m\u001b[1;33m(\u001b[0m\u001b[0ms\u001b[0m\u001b[1;33m,\u001b[0m \u001b[0midx\u001b[0m\u001b[1;33m=\u001b[0m\u001b[0m_w\u001b[0m\u001b[1;33m(\u001b[0m\u001b[0ms\u001b[0m\u001b[1;33m,\u001b[0m \u001b[0midx\u001b[0m\u001b[1;33m)\u001b[0m\u001b[1;33m.\u001b[0m\u001b[0mend\u001b[0m\u001b[1;33m(\u001b[0m\u001b[1;33m)\u001b[0m\u001b[1;33m)\u001b[0m\u001b[1;33m\u001b[0m\u001b[1;33m\u001b[0m\u001b[0m\n\u001b[0m",
      "\u001b[1;31mJSONDecodeError\u001b[0m: Expecting value: line 1 column 1 (char 0)"
     ]
    }
   ],
   "source": [
    "#Based on the last search, find the Dataset you want\n",
    "#U.S. Landsat 4-8 Dynamic Surface Water Extent (DSWE) Landsat Science Product Tiles (Albers projection) is SP_TILE_DSWE\n",
    "\n",
    "dataset = 'SP_TILE_DSWE'\n",
    "\n",
    "print(\"Searching for {}\".format(dataset))\n",
    "\n",
    "# Set up your filters\n",
    "# Temporal filter is set to March 2019\n",
    "# Spatial filter is set to the extent of flooded areas around Omaha, NE \n",
    "\n",
    "temporal_filter = {'startDate':'2000-01-01','endDate':'2020-06-01'}\n",
    "spatial_filter =  {'filterType':'mbr','lowerLeft': {'latitude' : '25.454' , 'longitude':'-80.671'}, \n",
    "                   'upperRight': {'latitude':'25.760','longitude':'-80.477'}}\n",
    "\n",
    "                                 \n",
    "                               \n",
    "data = {'apiKey' : api_key, 'datasetName' : dataset, 'temporalFilter': temporal_filter, 'spatialFilter': spatial_filter,\n",
    "        'maxResults' : 1630} # should maxResults be the same as the # of DSWE tiles from next line? original was 300\n",
    "\n",
    "json_data = {'jsonRequest' : json.dumps(data)}\n",
    "url = m2mhost + 'search/'\n",
    "response = requests.post(url, data=json_data)\n",
    "\n",
    "# Format the reponse as json\n",
    "json_response = response.json()\n",
    "\n",
    "\n",
    "if json_response['data'] is not None:\n",
    "    if json_response['data']['results'] is not None:\n",
    "        for scenes in json_response['data']['results']:\n",
    "            print(\"Entity ID: {}\".format(scenes['entityId']))\n",
    "            scene_id = scenes['entityId']\n",
    "            \n",
    "\n",
    "            # Now that we have the scene, let's get the downloads available for this record\n",
    "            # The DownloadOptions may give you more than one option for a scene / dataset\n",
    "            # This just assumes the 'Standard' product is required\n",
    "            data = { 'datasetName' : dataset, 'apiKey' : api_key, 'entityIds' : scene_id , 'products' : 'DSWE', \n",
    "                    'downloadCode' : 'DSWE'}\n",
    "            json_data = {'jsonRequest' : json.dumps(data)}\n",
    "            url = m2mhost + 'download/'\n",
    "\n",
    "            response = requests.post(url, data=json_data)\n",
    "            json_response = response.json()\n",
    "\n",
    "            if json_response['data'] is not None:\n",
    "                for info in json_response['data']:\n",
    "                    # print(info)\n",
    "                    sceneid = info['entityId']\n",
    "                    url = info['url']\n",
    "                    # downloads[sceneid] = url\n",
    "                    print(\"{} {}\".format(sceneid, url))\n",
    "            else:\n",
    "                print(\"ERROR Received: {}\".format(json_response['error']))\n",
    "    else:\n",
    "        print('No scenes returned or an error occurred')\n",
    "else:\n",
    "    print('An error occurred')\n",
    "    if json_response['error'] is not None:\n",
    "        print(json_response['error'])\n"
   ]
  },
  {
   "cell_type": "code",
   "execution_count": null,
   "metadata": {},
   "outputs": [],
   "source": [
    "## Create an empty pandas dataframe with 3 column and rows = the number of DSWE tiles (variable name \"innundated_area\""
   ]
  },
  {
   "cell_type": "code",
   "execution_count": null,
   "metadata": {},
   "outputs": [],
   "source": [
    "# Number of DSWE tiles = 1630\n",
    "# df will be 3 x 1630\n",
    "df = pd.DataFrame({'inundated_area':[]})\n",
    "pd.DataFrame(index=np.arange(1630), columns=np.arange(3))"
   ]
  },
  {
   "cell_type": "code",
   "execution_count": null,
   "metadata": {},
   "outputs": [],
   "source": [
    "## Create an empty raster with dimensions = the dimension of single bounding box clipped DSWE tile (variable name \"levee_DSWE\"."
   ]
  },
  {
   "cell_type": "code",
   "execution_count": 23,
   "metadata": {},
   "outputs": [
    {
     "ename": "SyntaxError",
     "evalue": "invalid syntax (<ipython-input-23-bb413cb2774b>, line 5)",
     "output_type": "error",
     "traceback": [
      "\u001b[1;36m  File \u001b[1;32m\"<ipython-input-23-bb413cb2774b>\"\u001b[1;36m, line \u001b[1;32m5\u001b[0m\n\u001b[1;33m    levee_DSWE <- (ncol=3, nrow=1630, xmn=25.454, xmx=25.76, ymn=-80.671, ymx=-80.477)\u001b[0m\n\u001b[1;37m                       ^\u001b[0m\n\u001b[1;31mSyntaxError\u001b[0m\u001b[1;31m:\u001b[0m invalid syntax\n"
     ]
    }
   ],
   "source": [
    "#help(\"raster-package\")\n",
    "\n",
    "levee_DSWE <- raster()\n",
    "levee_DSWE\n",
    "levee_DSWE <- (ncol=3, nrow=1630, xmn=25.454, xmx=25.76, ymn=-80.671, ymx=-80.477)\n",
    "projection(levee_DSWE) <- \"+proj=utm +zone=48 +datum=NAD83\" \n"
   ]
  },
  {
   "cell_type": "code",
   "execution_count": null,
   "metadata": {},
   "outputs": [],
   "source": [
    "## Initiate a loop that links through all download links (= the number of DSWE tiles). Run the following commands:\n",
    "##   i. download ith DSWE tile\n",
    "##   ii. subset it to extent of levee bounding box coordinates (can be pulled directly from \"levee\" dataframe)\n",
    "##   iii. innundated_area[i,0]=date of DSWE capture\n",
    "##   iv. innundated_area[i,1]=total number of innundated pixels in DSWE tiles\n",
    "##   v. innundated_area[i,2]=total number of pixels in DSWE tile\n",
    "##   vi. append ith DSWE tile to \"levee_DSWE\" raster\n",
    "##   (end loop)"
   ]
  },
  {
   "cell_type": "code",
   "execution_count": null,
   "metadata": {},
   "outputs": [],
   "source": []
  },
  {
   "cell_type": "code",
   "execution_count": null,
   "metadata": {},
   "outputs": [],
   "source": [
    "## Save innundated_area as .txt file (file name <leveeID> + \"innundate_area.txt\""
   ]
  },
  {
   "cell_type": "code",
   "execution_count": null,
   "metadata": {},
   "outputs": [],
   "source": []
  },
  {
   "cell_type": "code",
   "execution_count": null,
   "metadata": {},
   "outputs": [],
   "source": [
    "## Save stacked DSWE raster as .tif (file name <leveeID> + \"DSWE\")"
   ]
  },
  {
   "cell_type": "code",
   "execution_count": null,
   "metadata": {},
   "outputs": [],
   "source": []
  },
  {
   "cell_type": "code",
   "execution_count": null,
   "metadata": {},
   "outputs": [],
   "source": [
    "## Download USGS stream stage data nearest to levee from 07-01-1999 through 06-31-2020. Save it as <leveeID> + \"stage.csv\""
   ]
  },
  {
   "cell_type": "code",
   "execution_count": null,
   "metadata": {},
   "outputs": [],
   "source": []
  },
  {
   "cell_type": "code",
   "execution_count": null,
   "metadata": {},
   "outputs": [],
   "source": [
    "## Merge <leveeID> + \"stage.csv\" and <leveeID> + \"innundated_area.csv\" by date"
   ]
  },
  {
   "cell_type": "code",
   "execution_count": null,
   "metadata": {},
   "outputs": [],
   "source": []
  }
 ],
 "metadata": {
  "kernelspec": {
   "display_name": "geostats_env",
   "language": "python",
   "name": "geostats_env"
  },
  "language_info": {
   "codemirror_mode": {
    "name": "ipython",
    "version": 3
   },
   "file_extension": ".py",
   "mimetype": "text/x-python",
   "name": "python",
   "nbconvert_exporter": "python",
   "pygments_lexer": "ipython3",
   "version": "3.7.9"
  }
 },
 "nbformat": 4,
 "nbformat_minor": 4
}
